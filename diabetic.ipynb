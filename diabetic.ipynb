{
 "cells": [
  {
   "cell_type": "code",
   "execution_count": 2,
   "id": "779ed4e0-b10b-4b59-a0bb-1694a1e0599f",
   "metadata": {},
   "outputs": [],
   "source": [
    "import pandas as pd\n",
    "import matplotlib.pyplot as plt\n",
    "import seaborn as sns\n",
    "from sklearn.model_selection import train_test_split\n",
    "\n",
    "import heapq"
   ]
  },
  {
   "cell_type": "code",
   "execution_count": 3,
   "id": "ebd5fcc9-619e-43ca-863e-66c708663c1f",
   "metadata": {},
   "outputs": [
    {
     "name": "stdout",
     "output_type": "stream",
     "text": [
      "<class 'pandas.core.frame.DataFrame'>\n",
      "RangeIndex: 952 entries, 0 to 951\n",
      "Data columns (total 18 columns):\n",
      " #   Column            Non-Null Count  Dtype  \n",
      "---  ------            --------------  -----  \n",
      " 0   Age               952 non-null    object \n",
      " 1   Gender            952 non-null    object \n",
      " 2   Family_Diabetes   952 non-null    object \n",
      " 3   highBP            952 non-null    object \n",
      " 4   PhysicallyActive  952 non-null    object \n",
      " 5   BMI               948 non-null    float64\n",
      " 6   Smoking           952 non-null    object \n",
      " 7   Alcohol           952 non-null    object \n",
      " 8   Sleep             952 non-null    int64  \n",
      " 9   SoundSleep        952 non-null    int64  \n",
      " 10  RegularMedicine   952 non-null    object \n",
      " 11  JunkFood          952 non-null    object \n",
      " 12  Stress            952 non-null    object \n",
      " 13  BPLevel           952 non-null    object \n",
      " 14  Pregancies        910 non-null    float64\n",
      " 15  Pdiabetes         951 non-null    object \n",
      " 16  UriationFreq      952 non-null    object \n",
      " 17  Diabetic          951 non-null    object \n",
      "dtypes: float64(2), int64(2), object(14)\n",
      "memory usage: 134.0+ KB\n",
      "None\n"
     ]
    }
   ],
   "source": [
    "diabetes_df=pd.read_csv(r\"C:\\Users\\intel\\Downloads\\diabetes_dataset__2019.csv\")\n",
    "print(diabetes_df.info())"
   ]
  },
  {
   "cell_type": "code",
   "execution_count": 4,
   "id": "5c068990-acc1-4a35-9299-bd28b5cc27b3",
   "metadata": {},
   "outputs": [
    {
     "name": "stdout",
     "output_type": "stream",
     "text": [
      "              BMI       Sleep  SoundSleep  Pregancies\n",
      "count  948.000000  952.000000  952.000000  910.000000\n",
      "mean    25.763713    6.949580    5.495798    0.386813\n",
      "std      5.402595    1.273189    1.865618    0.909455\n",
      "min     15.000000    4.000000    0.000000    0.000000\n",
      "25%     22.000000    6.000000    4.000000    0.000000\n",
      "50%     25.000000    7.000000    6.000000    0.000000\n",
      "75%     29.000000    8.000000    7.000000    0.000000\n",
      "max     45.000000   11.000000   11.000000    4.000000\n"
     ]
    }
   ],
   "source": [
    "print(diabetes_df.describe())"
   ]
  },
  {
   "cell_type": "code",
   "execution_count": 5,
   "id": "53cb7c80-45f3-4889-a1af-a5756f347483",
   "metadata": {},
   "outputs": [
    {
     "ename": "ValueError",
     "evalue": "could not convert string to float: '50-59'",
     "output_type": "error",
     "traceback": [
      "\u001b[1;31m---------------------------------------------------------------------------\u001b[0m",
      "\u001b[1;31mValueError\u001b[0m                                Traceback (most recent call last)",
      "Cell \u001b[1;32mIn[5], line 1\u001b[0m\n\u001b[1;32m----> 1\u001b[0m \u001b[38;5;28mprint\u001b[39m(\u001b[43mdiabetes_df\u001b[49m\u001b[38;5;241;43m.\u001b[39;49m\u001b[43mcorr\u001b[49m\u001b[43m(\u001b[49m\u001b[43m)\u001b[49m)\n",
      "File \u001b[1;32m~\\AppData\\Local\\Programs\\Python\\Python310\\lib\\site-packages\\pandas\\core\\frame.py:11049\u001b[0m, in \u001b[0;36mDataFrame.corr\u001b[1;34m(self, method, min_periods, numeric_only)\u001b[0m\n\u001b[0;32m  11047\u001b[0m cols \u001b[38;5;241m=\u001b[39m data\u001b[38;5;241m.\u001b[39mcolumns\n\u001b[0;32m  11048\u001b[0m idx \u001b[38;5;241m=\u001b[39m cols\u001b[38;5;241m.\u001b[39mcopy()\n\u001b[1;32m> 11049\u001b[0m mat \u001b[38;5;241m=\u001b[39m \u001b[43mdata\u001b[49m\u001b[38;5;241;43m.\u001b[39;49m\u001b[43mto_numpy\u001b[49m\u001b[43m(\u001b[49m\u001b[43mdtype\u001b[49m\u001b[38;5;241;43m=\u001b[39;49m\u001b[38;5;28;43mfloat\u001b[39;49m\u001b[43m,\u001b[49m\u001b[43m \u001b[49m\u001b[43mna_value\u001b[49m\u001b[38;5;241;43m=\u001b[39;49m\u001b[43mnp\u001b[49m\u001b[38;5;241;43m.\u001b[39;49m\u001b[43mnan\u001b[49m\u001b[43m,\u001b[49m\u001b[43m \u001b[49m\u001b[43mcopy\u001b[49m\u001b[38;5;241;43m=\u001b[39;49m\u001b[38;5;28;43;01mFalse\u001b[39;49;00m\u001b[43m)\u001b[49m\n\u001b[0;32m  11051\u001b[0m \u001b[38;5;28;01mif\u001b[39;00m method \u001b[38;5;241m==\u001b[39m \u001b[38;5;124m\"\u001b[39m\u001b[38;5;124mpearson\u001b[39m\u001b[38;5;124m\"\u001b[39m:\n\u001b[0;32m  11052\u001b[0m     correl \u001b[38;5;241m=\u001b[39m libalgos\u001b[38;5;241m.\u001b[39mnancorr(mat, minp\u001b[38;5;241m=\u001b[39mmin_periods)\n",
      "File \u001b[1;32m~\\AppData\\Local\\Programs\\Python\\Python310\\lib\\site-packages\\pandas\\core\\frame.py:1993\u001b[0m, in \u001b[0;36mDataFrame.to_numpy\u001b[1;34m(self, dtype, copy, na_value)\u001b[0m\n\u001b[0;32m   1991\u001b[0m \u001b[38;5;28;01mif\u001b[39;00m dtype \u001b[38;5;129;01mis\u001b[39;00m \u001b[38;5;129;01mnot\u001b[39;00m \u001b[38;5;28;01mNone\u001b[39;00m:\n\u001b[0;32m   1992\u001b[0m     dtype \u001b[38;5;241m=\u001b[39m np\u001b[38;5;241m.\u001b[39mdtype(dtype)\n\u001b[1;32m-> 1993\u001b[0m result \u001b[38;5;241m=\u001b[39m \u001b[38;5;28;43mself\u001b[39;49m\u001b[38;5;241;43m.\u001b[39;49m\u001b[43m_mgr\u001b[49m\u001b[38;5;241;43m.\u001b[39;49m\u001b[43mas_array\u001b[49m\u001b[43m(\u001b[49m\u001b[43mdtype\u001b[49m\u001b[38;5;241;43m=\u001b[39;49m\u001b[43mdtype\u001b[49m\u001b[43m,\u001b[49m\u001b[43m \u001b[49m\u001b[43mcopy\u001b[49m\u001b[38;5;241;43m=\u001b[39;49m\u001b[43mcopy\u001b[49m\u001b[43m,\u001b[49m\u001b[43m \u001b[49m\u001b[43mna_value\u001b[49m\u001b[38;5;241;43m=\u001b[39;49m\u001b[43mna_value\u001b[49m\u001b[43m)\u001b[49m\n\u001b[0;32m   1994\u001b[0m \u001b[38;5;28;01mif\u001b[39;00m result\u001b[38;5;241m.\u001b[39mdtype \u001b[38;5;129;01mis\u001b[39;00m \u001b[38;5;129;01mnot\u001b[39;00m dtype:\n\u001b[0;32m   1995\u001b[0m     result \u001b[38;5;241m=\u001b[39m np\u001b[38;5;241m.\u001b[39masarray(result, dtype\u001b[38;5;241m=\u001b[39mdtype)\n",
      "File \u001b[1;32m~\\AppData\\Local\\Programs\\Python\\Python310\\lib\\site-packages\\pandas\\core\\internals\\managers.py:1694\u001b[0m, in \u001b[0;36mBlockManager.as_array\u001b[1;34m(self, dtype, copy, na_value)\u001b[0m\n\u001b[0;32m   1692\u001b[0m         arr\u001b[38;5;241m.\u001b[39mflags\u001b[38;5;241m.\u001b[39mwriteable \u001b[38;5;241m=\u001b[39m \u001b[38;5;28;01mFalse\u001b[39;00m\n\u001b[0;32m   1693\u001b[0m \u001b[38;5;28;01melse\u001b[39;00m:\n\u001b[1;32m-> 1694\u001b[0m     arr \u001b[38;5;241m=\u001b[39m \u001b[38;5;28;43mself\u001b[39;49m\u001b[38;5;241;43m.\u001b[39;49m\u001b[43m_interleave\u001b[49m\u001b[43m(\u001b[49m\u001b[43mdtype\u001b[49m\u001b[38;5;241;43m=\u001b[39;49m\u001b[43mdtype\u001b[49m\u001b[43m,\u001b[49m\u001b[43m \u001b[49m\u001b[43mna_value\u001b[49m\u001b[38;5;241;43m=\u001b[39;49m\u001b[43mna_value\u001b[49m\u001b[43m)\u001b[49m\n\u001b[0;32m   1695\u001b[0m     \u001b[38;5;66;03m# The underlying data was copied within _interleave, so no need\u001b[39;00m\n\u001b[0;32m   1696\u001b[0m     \u001b[38;5;66;03m# to further copy if copy=True or setting na_value\u001b[39;00m\n\u001b[0;32m   1698\u001b[0m \u001b[38;5;28;01mif\u001b[39;00m na_value \u001b[38;5;129;01mis\u001b[39;00m lib\u001b[38;5;241m.\u001b[39mno_default:\n",
      "File \u001b[1;32m~\\AppData\\Local\\Programs\\Python\\Python310\\lib\\site-packages\\pandas\\core\\internals\\managers.py:1753\u001b[0m, in \u001b[0;36mBlockManager._interleave\u001b[1;34m(self, dtype, na_value)\u001b[0m\n\u001b[0;32m   1751\u001b[0m     \u001b[38;5;28;01melse\u001b[39;00m:\n\u001b[0;32m   1752\u001b[0m         arr \u001b[38;5;241m=\u001b[39m blk\u001b[38;5;241m.\u001b[39mget_values(dtype)\n\u001b[1;32m-> 1753\u001b[0m     \u001b[43mresult\u001b[49m\u001b[43m[\u001b[49m\u001b[43mrl\u001b[49m\u001b[38;5;241;43m.\u001b[39;49m\u001b[43mindexer\u001b[49m\u001b[43m]\u001b[49m \u001b[38;5;241m=\u001b[39m arr\n\u001b[0;32m   1754\u001b[0m     itemmask[rl\u001b[38;5;241m.\u001b[39mindexer] \u001b[38;5;241m=\u001b[39m \u001b[38;5;241m1\u001b[39m\n\u001b[0;32m   1756\u001b[0m \u001b[38;5;28;01mif\u001b[39;00m \u001b[38;5;129;01mnot\u001b[39;00m itemmask\u001b[38;5;241m.\u001b[39mall():\n",
      "\u001b[1;31mValueError\u001b[0m: could not convert string to float: '50-59'"
     ]
    }
   ],
   "source": [
    "print(diabetes_df.corr())"
   ]
  },
  {
   "cell_type": "code",
   "execution_count": null,
   "id": "bcf4f897-6d67-48a7-a27b-702f1f33728c",
   "metadata": {},
   "outputs": [],
   "source": [
    "print(\"value of each column\")\n",
    "for col in diabetes_df.columns:\n",
    "    print(col)\n",
    "    print(diabetes_df[col].value_counts())\n",
    "    print(\"\\n\")"
   ]
  },
  {
   "cell_type": "code",
   "execution_count": null,
   "id": "5598ca71-c21d-4587-a9a4-1c6e57872b7d",
   "metadata": {},
   "outputs": [],
   "source": [
    "diabetes_df['Age'].replace('less than 40','0-40',inplace=True)\n",
    "diabetes_df['Age'].replace('60 or older','60-99',inplace=True)\n",
    "\n",
    "diabetes_df['Gender'].replace('Male','0',inplace=True)\n",
    "diabetes_df['Gender'].replace('Female','1',inplace=True)\n",
    "\n",
    "# Replacing in col 'Family_Diabetes' no with 0\n",
    "diabetes_df['Family_Diabetes'].replace('no','0', inplace=True)\n",
    "# Replacing in col 'Family_Diabetes' yes with 1\n",
    "diabetes_df['Family_Diabetes'].replace('yes','1', inplace=True)\n",
    "\n",
    "# Replacing in col 'highBP' no with 0\n",
    "diabetes_df['highBP'].replace('no','0', inplace=True)\n",
    "# Replacing in col 'highBP' yes with 1\n",
    "diabetes_df['highBP'].replace('yes','1', inplace=True)\n",
    "\n",
    "# Replacing in col 'PhysicallyActive' none with 0\n",
    "diabetes_df['PhysicallyActive'].replace('none',0, inplace=True)\n",
    "# Replacing in col 'PhysicallyActive' less than half an hr with 1\n",
    "diabetes_df['PhysicallyActive'].replace('less than half an hr',1, inplace=True)\n",
    "# Replacing in col 'PhysicallyActive' more than half an hr with 2\n",
    "diabetes_df['PhysicallyActive'].replace('more than half an hr',2, inplace=True)\n",
    "# Replacing in col 'PhysicallyActive' one hr or more with 3\n",
    "diabetes_df['PhysicallyActive'].replace('one hr or more',3, inplace=True)\n",
    "\n",
    "# Replacing in col 'Smoking' no with 0\n",
    "diabetes_df['Smoking'].replace('no','0', inplace=True)\n",
    "# Replacing in col 'Smoking' yes with 1\n",
    "diabetes_df['Smoking'].replace('yes','1', inplace=True)\n",
    "\n",
    "# Replacing in col 'Alcohol' no with 0\n",
    "diabetes_df['Alcohol'].replace('no','0', inplace=True)\n",
    "# Replacing in col 'Alcohol' yes with 1\n",
    "diabetes_df['Alcohol'].replace('yes','1', inplace=True)\n",
    "\n",
    "# Replacing in col 'RegularMedicine' no/o with 0\n",
    "diabetes_df['RegularMedicine'].replace('no','0', inplace=True)\n",
    "diabetes_df['RegularMedicine'].replace('o','0', inplace=True)\n",
    "# Replacing in col 'RegularMedicine' yes with 1\n",
    "diabetes_df['RegularMedicine'].replace('yes','1', inplace=True)\n",
    "\n",
    "# Replacing in col 'JunkFood' occasionally with 0\n",
    "diabetes_df['JunkFood'].replace('occasionally','0', inplace=True)\n",
    "# Replacing in col 'JunkFood' often with 1\n",
    "diabetes_df['JunkFood'].replace('often','1', inplace=True)\n",
    "# Replacing in col 'JunkFood' very often with 2\n",
    "diabetes_df['JunkFood'].replace('very often','2', inplace=True)\n",
    "# Replacing in col 'JunkFood' always with 3\n",
    "diabetes_df['JunkFood'].replace('always','3', inplace=True)\n",
    "\n",
    "# Replacing in col 'Stress' not at all with 0\n",
    "diabetes_df['Stress'].replace('not at all','0', inplace=True)\n",
    "# Replacing in col 'Stress' sometimes with 1\n",
    "diabetes_df['Stress'].replace('sometimes','1', inplace=True)\n",
    "# Replacing in col 'Stress' very often with 2\n",
    "diabetes_df['Stress'].replace('very often','2', inplace=True)\n",
    "# Replacing in col 'Stress' always with 3\n",
    "diabetes_df['Stress'].replace('always','3', inplace=True)\n",
    "\n",
    "# remove capital letter and space\n",
    "diabetes_df['BPLevel'] = diabetes_df['BPLevel'].str.lower().str.strip()\n",
    "# Replacing in col 'BPLevel' low with 0\n",
    "diabetes_df['BPLevel'].replace('low',0, inplace=True)\n",
    "# Replacing in col 'BPLevel' normal with 1\n",
    "diabetes_df['BPLevel'].replace('normal',1, inplace=True)\n",
    "# Replacing in col 'BPLevel' high with 2\n",
    "diabetes_df['BPLevel'].replace('high',2, inplace=True)\n",
    "\n",
    "# Column 'Pregancies': replacing the null values with 0\n",
    "diabetes_df['Pdiabetes'] = diabetes_df['Pdiabetes'].fillna(0)\n",
    "# Replacing in col 'Pdiabetes' no with 0\n",
    "diabetes_df['Pdiabetes'].replace('no','0', inplace=True)\n",
    "# Replacing in col 'Pdiabetes' yes with 1\n",
    "diabetes_df['Pdiabetes'].replace('yes','1', inplace=True)\n",
    "\n",
    "# Replacing in col 'UriationFreq' not much with 0\n",
    "diabetes_df['UriationFreq'].replace('not much','0', inplace=True)\n",
    "# Replacing in col 'UriationFreq' quite often with 1\n",
    "diabetes_df['UriationFreq'].replace('quite often','1', inplace=True)\n",
    "\n",
    "# remove capital letter in col 'Diabetic'\n",
    "diabetes_df['Diabetic'] = diabetes_df['Diabetic'].str.strip()\n",
    "# Replace null value with 0\n",
    "diabetes_df['Diabetic'] = diabetes_df['Diabetic'].fillna(0)\n",
    "# Replacing in col 'Diabetic' no with 0\n",
    "diabetes_df['Diabetic'].replace('no', '0', inplace=True)\n",
    "# Replacing in col 'Diabetic' yes with 1\n",
    "diabetes_df['Diabetic'].replace('yes', '1', inplace=True)\n",
    "\n",
    "# Column 'Pregancies': replacing the null values with 0\n",
    "diabetes_df['Pregancies'] = diabetes_df['Pregancies'].fillna(0)\n",
    "\n",
    "# Remove rows with nullvalues in BMI col because i think that BMI is an important variable, so I don't want to replace nan with the mean of this col like this:\n",
    "# diabetes_df['BMI'] = diabetes_df['BMI'].fillna(diabetes_df['BMI'].mean())\n",
    "# So i take only the rows where BMI is not null\n",
    "diabetes_df = diabetes_df[diabetes_df['BMI'].notna()]"
   ]
  },
  {
   "cell_type": "code",
   "execution_count": null,
   "id": "401ac853-3851-484f-9cd9-ad7baf8681ef",
   "metadata": {},
   "outputs": [],
   "source": [
    "diabetic_mask = diabetes_df['Diabetic'] == '1'\n",
    "diabetic_df = diabetes_df[diabetic_mask]\n",
    "\n",
    "not_diabetic_mask = diabetes_df['Diabetic'] == '0'\n",
    "not_diabetic_df = diabetes_df[not_diabetic_mask]\n",
    "\n",
    "diabetic_df.to_csv('diab_clean.csv', encoding='utf-8', index=False)\n",
    "diabetic_clean_df = pd.read_csv('diab_clean.csv')\n",
    "diabetic_clean_df['Diabetic'] = diabetic_clean_df['Diabetic'].fillna(1)\n",
    "\n",
    "not_diabetic_df.to_csv('not_diab_clean.csv', encoding='utf-8', index=False)\n",
    "not_diabetic_clean_df = pd.read_csv('not_diab_clean.csv')\n",
    "not_diabetic_clean_df['Diabetic'] = not_diabetic_clean_df['Diabetic'].fillna(0)\n",
    "\n",
    "frames = [diabetic_clean_df, not_diabetic_clean_df]\n",
    "diabetes_clean_df = pd.concat(frames)\n",
    "diabetes_clean_df.to_csv('diabetes_clean_df.csv', encoding='utf-8', index=False)\n",
    "\n",
    "diab_df = pd.read_csv('diab_clean.csv')\n",
    "not_diab_df = pd.read_csv('not_diab_clean.csv')\n",
    "\n",
    "print('--------- Cleaned dataset merged ---------')\n",
    "print(diabetes_clean_df.info())\n",
    "print(diabetes_clean_df.corr())"
   ]
  },
  {
   "cell_type": "code",
   "execution_count": null,
   "id": "a1baf2a9-e4b4-44b8-87f7-2eb149f64964",
   "metadata": {},
   "outputs": [],
   "source": [
    "fig, ax = plt.subplots(figsize=(8, 6))\n",
    "label = ['Non-Diabetic', 'Diabetic']\n",
    "diabetic_count = list(diabetes_clean_df['Diabetic'].value_counts())\n",
    "colors_df = ['#becee6', '#4287f5'] # not, diab\n",
    "explode = (0.1, 0)\n",
    "ax.pie(diabetic_count, explode=explode, autopct='%.1f%%',\n",
    "        shadow=False, startangle=90, colors=colors_df)\n",
    "ax.axis('equal')  # equal aspect ratio ensures that pie is drawn as a circle\n",
    "plt.legend(label, loc='best')\n",
    "plt.show()"
   ]
  },
  {
   "cell_type": "code",
   "execution_count": null,
   "id": "a59a14cc-8de4-499a-9123-649193019dea",
   "metadata": {},
   "outputs": [],
   "source": [
    "diabetic_label = ['Diabetic Male', 'Diabetic Female']\n",
    "diabetic_count = list(diab_df['Gender'].value_counts())\n",
    "colors_df = ['#4287f5', '#D991C3']\n",
    "explode = (0.1, 0)\n",
    "fig, ax = plt.subplots(figsize=(6, 4))\n",
    "ax.pie(diabetic_count, explode=explode, autopct='%.1f%%',\n",
    "        shadow=False, startangle=90, colors=colors_df)\n",
    "ax.axis('equal')\n",
    "plt.legend(diabetic_label, loc='best')\n",
    "plt.show()"
   ]
  },
  {
   "cell_type": "code",
   "execution_count": null,
   "id": "1052272a-bf5f-4d0d-859b-c9a71f41c7a2",
   "metadata": {},
   "outputs": [],
   "source": [
    "diab_df = diab_df.sort_values(by='Age')\n",
    "not_diab_df = not_diab_df.sort_values(by='Age')\n",
    "fig, ax = plt.subplots(figsize=(6, 4))\n",
    "ax.hist([diab_df.Age, not_diab_df.Age], \n",
    "    label=['Diabetic', 'Non-Diabetic'], \n",
    "    color=['#4287f5', '#becee6'], \n",
    "    bins=len(diab_df['Age'].unique())\n",
    ")\n",
    "ax.set_xlabel(\"Age range\")\n",
    "ax.set_ylabel(\"Number of people\")\n",
    "# set the x-axis labels to the unique values in the age column\n",
    "ax.set_xticks(diab_df['Age'].unique())\n",
    "ax.set_xticklabels(diab_df['Age'].unique())\n",
    "plt.legend(loc='upper right')\n",
    "plt.show()"
   ]
  },
  {
   "cell_type": "code",
   "execution_count": null,
   "id": "c6d12434-01e4-4fdb-9020-f07cdba7008a",
   "metadata": {},
   "outputs": [],
   "source": [
    "diab_BMI_counts = diab_df.BMI.shape[0]\n",
    "not_diab_BMI_counts = not_diab_df.shape[0]\n",
    "tot = diabetes_clean_df.shape[0]\n",
    "print(\"diab_BMI_counts: \", diab_BMI_counts)\n",
    "print(\"not_diab_BMI_counts: \", not_diab_BMI_counts)\n",
    "print(\"tot_bmi: \", tot)    \n",
    "print(\"----------\")"
   ]
  },
  {
   "cell_type": "code",
   "execution_count": null,
   "id": "1c98fe4e-fe6c-4c28-9414-d27c4edfee6d",
   "metadata": {},
   "outputs": [],
   "source": [
    "fig, ax = plt.subplots(figsize=(10, 8))\n",
    "corr = diabetes_clean_df.corr()\n",
    "sns.heatmap(corr, \n",
    "cmap=sns.color_palette(\"light:#124683\", n_colors=20),\n",
    "vmin=-1.0, vmax=1.0,\n",
    "square=True, ax=ax,\n",
    "annot=True, fmt=\".2f\")\n",
    "plt.show()\n",
    "# show the 5 highest_values (excluding 1 and duplicates)\n",
    "highest_values = [float(item.get_text()) for item in ax.texts]\n",
    "filtered_highest_values = [val for val in highest_values if val != 1]\n",
    "unique_highest_values = set(filtered_highest_values)\n",
    "top_5_highest_values = heapq.nlargest(5, unique_highest_values)\n",
    "\n",
    "print(top_5_highest_values)\n",
    "# The most correlations between the variable \"Diabetic\" are the variables \"RegularMedicine\" and \"BPLevel\"."
   ]
  },
  {
   "cell_type": "code",
   "execution_count": null,
   "id": "fa537834-8018-4722-b5cd-0784d4d1f5cc",
   "metadata": {},
   "outputs": [],
   "source": []
  },
  {
   "cell_type": "code",
   "execution_count": null,
   "id": "0924aefe-863f-42aa-87b3-d6a1987ba67e",
   "metadata": {},
   "outputs": [],
   "source": []
  },
  {
   "cell_type": "code",
   "execution_count": null,
   "id": "93ae4838-7629-45eb-9b55-2fd7f4594d6b",
   "metadata": {},
   "outputs": [],
   "source": []
  }
 ],
 "metadata": {
  "kernelspec": {
   "display_name": "Python 3 (ipykernel)",
   "language": "python",
   "name": "python3"
  },
  "language_info": {
   "codemirror_mode": {
    "name": "ipython",
    "version": 3
   },
   "file_extension": ".py",
   "mimetype": "text/x-python",
   "name": "python",
   "nbconvert_exporter": "python",
   "pygments_lexer": "ipython3",
   "version": "3.10.0"
  }
 },
 "nbformat": 4,
 "nbformat_minor": 5
}
